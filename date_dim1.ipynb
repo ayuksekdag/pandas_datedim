{
  "nbformat": 4,
  "nbformat_minor": 0,
  "metadata": {
    "colab": {
      "provenance": [],
      "authorship_tag": "ABX9TyM5wnCoXlUPAtQOwBwvZk5C",
      "include_colab_link": true
    },
    "kernelspec": {
      "name": "python3",
      "display_name": "Python 3"
    },
    "language_info": {
      "name": "python"
    }
  },
  "cells": [
    {
      "cell_type": "markdown",
      "metadata": {
        "id": "view-in-github",
        "colab_type": "text"
      },
      "source": [
        "<a href=\"https://colab.research.google.com/github/ayuksekdag/pandas_datedim/blob/main/date_dim1.ipynb\" target=\"_parent\"><img src=\"https://colab.research.google.com/assets/colab-badge.svg\" alt=\"Open In Colab\"/></a>"
      ]
    },
    {
      "cell_type": "code",
      "source": [
        "import pandas as pd\n",
        "import datetime as dt"
      ],
      "metadata": {
        "id": "msZzSe-mp5Cr"
      },
      "execution_count": null,
      "outputs": []
    },
    {
      "cell_type": "code",
      "execution_count": null,
      "metadata": {
        "id": "o3YS_6l8pthD"
      },
      "outputs": [],
      "source": [
        "def create_date_table(start='2022-01-01', end='2022-12-31'):\n",
        "    start_ts = pd.to_datetime(start).date()\n",
        "\n",
        "    end_ts = pd.to_datetime(end).date()\n",
        "\n",
        "    # record timetsamp is empty for now\n",
        "    dates =  pd.DataFrame(columns=['Record_timestamp'],\n",
        "        index=pd.date_range(start_ts, end_ts))\n",
        "    dates.index.name = 'Date'\n",
        "\n",
        "    days_names = {\n",
        "        i: name\n",
        "        for i, name\n",
        "        in enumerate(['Monday', 'Tuesday', 'Wednesday',\n",
        "                      'Thursday', 'Friday', 'Saturday',\n",
        "                      'Sunday'])\n",
        "    }\n",
        "\n",
        "    dates['Day'] = dates.index.dayofweek.map(days_names.get)\n",
        "    dates['Week'] = dates.index.week\n",
        "    dates['Month'] = dates.index.month\n",
        "    dates['Quarter'] = dates.index.quarter\n",
        "    dates['Year_half'] = dates.index.month.map(lambda mth: 1 if mth <7 else 2)\n",
        "    dates['Year'] = dates.index.year\n",
        "    dates.reset_index(inplace=True)\n",
        "    dates.index.name = 'date_id'\n",
        "    return dates"
      ]
    },
    {
      "cell_type": "code",
      "source": [
        "df = create_date_table()"
      ],
      "metadata": {
        "colab": {
          "base_uri": "https://localhost:8080/"
        },
        "id": "AbIihUohpzHS",
        "outputId": "03c041c0-3875-4f25-bfe4-43e0e0e176de"
      },
      "execution_count": null,
      "outputs": [
        {
          "output_type": "stream",
          "name": "stderr",
          "text": [
            "<ipython-input-13-a9ebf26ea544>:20: FutureWarning: weekofyear and week have been deprecated, please use DatetimeIndex.isocalendar().week instead, which returns a Series. To exactly reproduce the behavior of week and weekofyear and return an Index, you may call pd.Int64Index(idx.isocalendar().week)\n",
            "  dates['Week'] = dates.index.week\n"
          ]
        }
      ]
    }
  ]
}